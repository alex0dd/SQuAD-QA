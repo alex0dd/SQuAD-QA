{
 "cells": [
  {
   "cell_type": "code",
   "execution_count": null,
   "metadata": {
    "id": "rsBVuJu6_5qN"
   },
   "outputs": [],
   "source": [
    "# External imports\n",
    "import numpy as np\n",
    "import pandas as pd\n",
    "import torch\n",
    "from typing import Tuple, List, Dict\n",
    "\n",
    "# Project imports\n",
    "from data_loading import Document\n",
    "from data_loading.parser import SquadFileParser\n",
    "from data_loading.utils import build_mappers_and_dataframe"
   ]
  },
  {
   "cell_type": "code",
   "execution_count": null,
   "metadata": {
    "id": "FAEEYoypAOKA"
   },
   "outputs": [],
   "source": [
    "parser = SquadFileParser(\"squad_data/training_set.json\")\n",
    "data = parser.parse_documents()"
   ]
  },
  {
   "cell_type": "code",
   "execution_count": null,
   "metadata": {
    "colab": {
     "base_uri": "https://localhost:8080/",
     "height": 258
    },
    "id": "x-y1GLEZJPvA",
    "outputId": "224f03dc-393a-4cef-db61-70c5e1993052"
   },
   "outputs": [],
   "source": [
    "paragraphs_mapper, questions_mapper, df = build_mappers_and_dataframe(data)\n",
    "print(questions_mapper[next(iter(questions_mapper))])\n",
    "print(paragraphs_mapper[next(iter(paragraphs_mapper))])\n",
    "df.head()"
   ]
  },
  {
   "cell_type": "code",
   "execution_count": null,
   "metadata": {
    "colab": {
     "base_uri": "https://localhost:8080/"
    },
    "id": "xFweP2uIJg8O",
    "outputId": "a6954145-f7e1-48b5-baa6-6a4a4de9339e"
   },
   "outputs": [],
   "source": [
    "from utils.embedding_utils import EmbeddingDownloader\n",
    "\n",
    "embedding_downloader = EmbeddingDownloader(\n",
    "    \"embedding_models\", \n",
    "    \"embedding_model.kv\", \n",
    "    model_name=\"fasttext-wiki-news-subwords-300\"\n",
    ")\n",
    "\n",
    "embedding_model = embedding_downloader.load()"
   ]
  },
  {
   "cell_type": "code",
   "execution_count": null,
   "metadata": {
    "colab": {
     "base_uri": "https://localhost:8080/"
    },
    "id": "KDl4CIW-mj_D",
    "outputId": "d666cb89-8d0d-4d41-9455-d0fa1ccee4b9"
   },
   "outputs": [],
   "source": [
    "from data_loading.utils import DataConverter, padder_collate_fn\n",
    "from data_loading.qa_dataset import CustomQADataset\n",
    "\n",
    "data_converter = DataConverter(embedding_model)\n",
    "datasetQA = CustomQADataset(data_converter, df, paragraphs_mapper, questions_mapper)\n",
    "data_loader = torch.utils.data.DataLoader(datasetQA, collate_fn = padder_collate_fn, batch_size=10, shuffle=True)\n",
    "print(next(iter(data_loader))[0].shape)\n",
    "print(next(iter(data_loader))[0].shape)"
   ]
  }
 ],
 "metadata": {
  "colab": {
   "collapsed_sections": [],
   "name": "NLP_Project.ipynb",
   "provenance": []
  },
  "kernelspec": {
   "display_name": "Python 3",
   "language": "python",
   "name": "python3"
  },
  "language_info": {
   "codemirror_mode": {
    "name": "ipython",
    "version": 3
   },
   "file_extension": ".py",
   "mimetype": "text/x-python",
   "name": "python",
   "nbconvert_exporter": "python",
   "pygments_lexer": "ipython3",
   "version": "3.7.4"
  }
 },
 "nbformat": 4,
 "nbformat_minor": 1
}
