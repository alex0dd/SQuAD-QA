{
  "nbformat": 4,
  "nbformat_minor": 0,
  "metadata": {
    "colab": {
      "name": "NLP_Project.ipynb",
      "provenance": [],
      "collapsed_sections": [],
      "include_colab_link": true
    },
    "kernelspec": {
      "display_name": "Python 3",
      "language": "python",
      "name": "python3"
    },
    "language_info": {
      "codemirror_mode": {
        "name": "ipython",
        "version": 3
      },
      "file_extension": ".py",
      "mimetype": "text/x-python",
      "name": "python",
      "nbconvert_exporter": "python",
      "pygments_lexer": "ipython3",
      "version": "3.9.1"
    },
    "latex_envs": {
      "LaTeX_envs_menu_present": true,
      "autoclose": false,
      "autocomplete": true,
      "bibliofile": "biblio.bib",
      "cite_by": "apalike",
      "current_citInitial": 1,
      "eqLabelWithNumbers": true,
      "eqNumInitial": 1,
      "hotkeys": {
        "equation": "Ctrl-E",
        "itemize": "Ctrl-I"
      },
      "labels_anchors": false,
      "latex_user_defs": false,
      "report_style_numbering": false,
      "user_envs_cfg": false
    }
  },
  "cells": [
    {
      "cell_type": "markdown",
      "metadata": {
        "id": "view-in-github",
        "colab_type": "text"
      },
      "source": [
        "<a href=\"https://colab.research.google.com/github/alexpod1000/SQuAD-QA/blob/main/NLP_Project.ipynb\" target=\"_parent\"><img src=\"https://colab.research.google.com/assets/colab-badge.svg\" alt=\"Open In Colab\"/></a>"
      ]
    },
    {
      "cell_type": "code",
      "metadata": {
        "id": "rsBVuJu6_5qN",
        "outputId": "d01159de-bdfb-4f37-8f5c-62a19a17c427",
        "colab": {
          "base_uri": "https://localhost:8080/",
          "height": 351
        }
      },
      "source": [
        "# External imports\n",
        "import numpy as np\n",
        "import pandas as pd\n",
        "import torch\n",
        "from typing import Tuple, List, Dict\n",
        "\n",
        "# Project imports\n",
        "from squad_data.parser import SquadFileParser\n",
        "from squad_data.utils import build_mappers_and_dataframe"
      ],
      "execution_count": 1,
      "outputs": [
        {
          "output_type": "error",
          "ename": "ModuleNotFoundError",
          "evalue": "ignored",
          "traceback": [
            "\u001b[0;31m---------------------------------------------------------------------------\u001b[0m",
            "\u001b[0;31mModuleNotFoundError\u001b[0m                       Traceback (most recent call last)",
            "\u001b[0;32m<ipython-input-1-720dbaffa6cf>\u001b[0m in \u001b[0;36m<module>\u001b[0;34m()\u001b[0m\n\u001b[1;32m      6\u001b[0m \u001b[0;34m\u001b[0m\u001b[0m\n\u001b[1;32m      7\u001b[0m \u001b[0;31m# Project imports\u001b[0m\u001b[0;34m\u001b[0m\u001b[0;34m\u001b[0m\u001b[0;34m\u001b[0m\u001b[0m\n\u001b[0;32m----> 8\u001b[0;31m \u001b[0;32mfrom\u001b[0m \u001b[0msquad_data\u001b[0m\u001b[0;34m.\u001b[0m\u001b[0mparser\u001b[0m \u001b[0;32mimport\u001b[0m \u001b[0mSquadFileParser\u001b[0m\u001b[0;34m\u001b[0m\u001b[0;34m\u001b[0m\u001b[0m\n\u001b[0m\u001b[1;32m      9\u001b[0m \u001b[0;32mfrom\u001b[0m \u001b[0msquad_data\u001b[0m\u001b[0;34m.\u001b[0m\u001b[0mutils\u001b[0m \u001b[0;32mimport\u001b[0m \u001b[0mbuild_mappers_and_dataframe\u001b[0m\u001b[0;34m\u001b[0m\u001b[0;34m\u001b[0m\u001b[0m\n",
            "\u001b[0;31mModuleNotFoundError\u001b[0m: No module named 'squad_data'",
            "",
            "\u001b[0;31m---------------------------------------------------------------------------\u001b[0;32m\nNOTE: If your import is failing due to a missing package, you can\nmanually install dependencies using either !pip or !apt.\n\nTo view examples of installing some common dependencies, click the\n\"Open Examples\" button below.\n\u001b[0;31m---------------------------------------------------------------------------\u001b[0m\n"
          ]
        }
      ]
    },
    {
      "cell_type": "code",
      "metadata": {
        "id": "PZWGXhgX4qYY"
      },
      "source": [
        "### Download Embedding"
      ],
      "execution_count": null,
      "outputs": []
    },
    {
      "cell_type": "code",
      "metadata": {
        "id": "xFweP2uIJg8O"
      },
      "source": [
        "from utils.embedding_utils import EmbeddingDownloader\n",
        "\n",
        "embedding_downloader = EmbeddingDownloader(\n",
        "    \"embedding_models\", \n",
        "    \"embedding_model.kv\", \n",
        "    model_name=\"fasttext-wiki-news-subwords-300\"\n",
        ")\n",
        "\n",
        "embedding_model = embedding_downloader.load()"
      ],
      "execution_count": null,
      "outputs": []
    },
    {
      "cell_type": "code",
      "metadata": {
        "id": "6scevY1F4qYb"
      },
      "source": [
        "### Parse the json and get the data"
      ],
      "execution_count": null,
      "outputs": []
    },
    {
      "cell_type": "code",
      "metadata": {
        "id": "FAEEYoypAOKA"
      },
      "source": [
        "parser = SquadFileParser(\"squad_data/data/training_set.json\")\n",
        "data = parser.parse_documents()"
      ],
      "execution_count": null,
      "outputs": []
    },
    {
      "cell_type": "code",
      "metadata": {
        "id": "Dhq_oTod4qYc"
      },
      "source": [
        "### Prepare the mappers and dataframe"
      ],
      "execution_count": null,
      "outputs": []
    },
    {
      "cell_type": "code",
      "metadata": {
        "id": "x-y1GLEZJPvA"
      },
      "source": [
        "paragraphs_mapper, questions_mapper, df = build_mappers_and_dataframe(data)\n",
        "print(questions_mapper[next(iter(questions_mapper))])\n",
        "print(paragraphs_mapper[next(iter(paragraphs_mapper))])\n",
        "df.head()"
      ],
      "execution_count": null,
      "outputs": []
    },
    {
      "cell_type": "code",
      "metadata": {
        "id": "5hpoaGpK4qYe"
      },
      "source": [
        "# Extend the paragraphs mapper to include spans\n",
        "paragraphs_spans_mapper = add_paragraphs_spans(paragraphs_mapper)"
      ],
      "execution_count": null,
      "outputs": []
    },
    {
      "cell_type": "code",
      "metadata": {
        "id": "E02_XWu_4qYe"
      },
      "source": [
        "print(paragraphs_spans_mapper['0_0']['text'])\n",
        "print(paragraphs_spans_mapper['0_0']['spans']"
      ],
      "execution_count": null,
      "outputs": []
    },
    {
      "cell_type": "code",
      "metadata": {
        "id": "JfRm1L_k4qYf"
      },
      "source": [
        "### DataConverter and CustomQADataset"
      ],
      "execution_count": null,
      "outputs": []
    },
    {
      "cell_type": "code",
      "metadata": {
        "id": "KDl4CIW-mj_D"
      },
      "source": [
        "from data_loading.utils import DataConverter, padder_collate_fn\n",
        "from data_loading.qa_dataset import CustomQADataset\n",
        "\n",
        "data_converter = DataConverter(embedding_model, paragraphs_spans_mapper)\n",
        "datasetQA = CustomQADataset(data_converter, df, paragraphs_mapper, questions_mapper)\n",
        "data_loader = torch.utils.data.DataLoader(datasetQA, collate_fn = padder_collate_fn, batch_size=10, shuffle=True)\n",
        "print(next(iter(data_loader))[0].shape)\n",
        "print(next(iter(data_loader))[2].shape)\n",
        "# If you are reading this, colab worked."
      ],
      "execution_count": null,
      "outputs": []
    }
  ]
}